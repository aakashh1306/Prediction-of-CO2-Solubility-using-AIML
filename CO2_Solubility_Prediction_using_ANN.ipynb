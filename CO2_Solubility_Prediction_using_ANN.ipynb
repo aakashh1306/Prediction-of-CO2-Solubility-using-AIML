{
  "cells": [
    {
      "cell_type": "code",
      "execution_count": null,
      "metadata": {
        "id": "ZJMBG_KPrzmd"
      },
      "outputs": [],
      "source": [
        "# Import necessary libraries\n",
        "import numpy as np\n",
        "import pandas as pd\n",
        "from sklearn.model_selection import train_test_split\n",
        "from sklearn.preprocessing import StandardScaler\n",
        "import tensorflow as tf\n",
        "from tensorflow.keras.models import Sequential\n",
        "from tensorflow.keras.layers import Dense\n",
        "import seaborn as sns"
      ]
    },
    {
      "cell_type": "code",
      "execution_count": null,
      "metadata": {
        "id": "xpjkcgLCr4pY"
      },
      "outputs": [],
      "source": [
        "# Load the dataset\n",
        "data = pd.read_csv('/content/Data.csv')"
      ]
    },
    {
      "cell_type": "code",
      "execution_count": null,
      "metadata": {
        "id": "bcGCHV1csHM1"
      },
      "outputs": [],
      "source": [
        "# Assuming 'x1', 'x2', 'x3', 'x4' are columns in your dataset and 'y' is the target variable\n",
        "X = data[['x1', 'x2', 'x3', 'x4']].values\n",
        "y = data['y'].values"
      ]
    },
    {
      "cell_type": "code",
      "execution_count": null,
      "metadata": {
        "colab": {
          "background_save": true
        },
        "id": "41lg5GTpsMQO"
      },
      "outputs": [],
      "source": [
        "# Split the data into training and testing sets\n",
        "X_train, X_test, y_train, y_test = train_test_split(X, y, test_size=0.2, random_state=42)"
      ]
    },
    {
      "cell_type": "code",
      "execution_count": null,
      "metadata": {
        "id": "d9TisOPNsSaZ"
      },
      "outputs": [],
      "source": [
        "# Normalize/Standardize the data\n",
        "scaler = StandardScaler()\n",
        "X_train = scaler.fit_transform(X_train)\n",
        "X_test = scaler.transform(X_test)"
      ]
    },
    {
      "cell_type": "code",
      "execution_count": null,
      "metadata": {
        "id": "ettgqNiosYM4"
      },
      "outputs": [],
      "source": [
        "# Build the Neural Network model\n",
        "model = Sequential([\n",
        "    Dense(64, activation='relu', input_shape=(X_train.shape[1],)),\n",
        "    Dense(32, activation='relu'),\n",
        "    Dense(1)  # Assuming it's a regression task with one output neuron\n",
        "])"
      ]
    },
    {
      "cell_type": "code",
      "execution_count": null,
      "metadata": {
        "id": "m8iSxwlMscvJ"
      },
      "outputs": [],
      "source": [
        "# Compile the model\n",
        "model.compile(optimizer='adam', loss='mean_squared_error', metrics=['mae'])\n"
      ]
    },
    {
      "cell_type": "code",
      "execution_count": null,
      "metadata": {
        "colab": {
          "base_uri": "https://localhost:8080/"
        },
        "id": "LS9itzy2shl7",
        "outputId": "458127cd-185c-40cd-c994-c925370f569a"
      },
      "outputs": [
        {
          "name": "stdout",
          "output_type": "stream",
          "text": [
            "Epoch 1/100\n",
            "18/18 [==============================] - 1s 15ms/step - loss: 0.1780 - mae: 0.3557 - val_loss: 0.1289 - val_mae: 0.2958\n",
            "Epoch 2/100\n",
            "18/18 [==============================] - 0s 5ms/step - loss: 0.0911 - mae: 0.2504 - val_loss: 0.0846 - val_mae: 0.2409\n",
            "Epoch 3/100\n",
            "18/18 [==============================] - 0s 4ms/step - loss: 0.0695 - mae: 0.2204 - val_loss: 0.0705 - val_mae: 0.2189\n",
            "Epoch 4/100\n",
            "18/18 [==============================] - 0s 5ms/step - loss: 0.0591 - mae: 0.2011 - val_loss: 0.0589 - val_mae: 0.2030\n",
            "Epoch 5/100\n",
            "18/18 [==============================] - 0s 4ms/step - loss: 0.0510 - mae: 0.1882 - val_loss: 0.0500 - val_mae: 0.1857\n",
            "Epoch 6/100\n",
            "18/18 [==============================] - 0s 3ms/step - loss: 0.0458 - mae: 0.1783 - val_loss: 0.0437 - val_mae: 0.1753\n",
            "Epoch 7/100\n",
            "18/18 [==============================] - 0s 3ms/step - loss: 0.0416 - mae: 0.1704 - val_loss: 0.0389 - val_mae: 0.1654\n",
            "Epoch 8/100\n",
            "18/18 [==============================] - 0s 4ms/step - loss: 0.0378 - mae: 0.1637 - val_loss: 0.0356 - val_mae: 0.1578\n",
            "Epoch 9/100\n",
            "18/18 [==============================] - 0s 3ms/step - loss: 0.0342 - mae: 0.1549 - val_loss: 0.0324 - val_mae: 0.1549\n",
            "Epoch 10/100\n",
            "18/18 [==============================] - 0s 4ms/step - loss: 0.0312 - mae: 0.1483 - val_loss: 0.0297 - val_mae: 0.1432\n",
            "Epoch 11/100\n",
            "18/18 [==============================] - 0s 4ms/step - loss: 0.0294 - mae: 0.1432 - val_loss: 0.0282 - val_mae: 0.1433\n",
            "Epoch 12/100\n",
            "18/18 [==============================] - 0s 4ms/step - loss: 0.0271 - mae: 0.1369 - val_loss: 0.0256 - val_mae: 0.1326\n",
            "Epoch 13/100\n",
            "18/18 [==============================] - 0s 3ms/step - loss: 0.0256 - mae: 0.1332 - val_loss: 0.0241 - val_mae: 0.1296\n",
            "Epoch 14/100\n",
            "18/18 [==============================] - 0s 3ms/step - loss: 0.0239 - mae: 0.1276 - val_loss: 0.0220 - val_mae: 0.1231\n",
            "Epoch 15/100\n",
            "18/18 [==============================] - 0s 3ms/step - loss: 0.0226 - mae: 0.1253 - val_loss: 0.0217 - val_mae: 0.1234\n",
            "Epoch 16/100\n",
            "18/18 [==============================] - 0s 3ms/step - loss: 0.0215 - mae: 0.1192 - val_loss: 0.0221 - val_mae: 0.1239\n",
            "Epoch 17/100\n",
            "18/18 [==============================] - 0s 3ms/step - loss: 0.0216 - mae: 0.1202 - val_loss: 0.0216 - val_mae: 0.1238\n",
            "Epoch 18/100\n",
            "18/18 [==============================] - 0s 4ms/step - loss: 0.0206 - mae: 0.1187 - val_loss: 0.0208 - val_mae: 0.1213\n",
            "Epoch 19/100\n",
            "18/18 [==============================] - 0s 3ms/step - loss: 0.0199 - mae: 0.1157 - val_loss: 0.0190 - val_mae: 0.1145\n",
            "Epoch 20/100\n",
            "18/18 [==============================] - 0s 4ms/step - loss: 0.0187 - mae: 0.1105 - val_loss: 0.0187 - val_mae: 0.1130\n",
            "Epoch 21/100\n",
            "18/18 [==============================] - 0s 4ms/step - loss: 0.0187 - mae: 0.1116 - val_loss: 0.0189 - val_mae: 0.1126\n",
            "Epoch 22/100\n",
            "18/18 [==============================] - 0s 4ms/step - loss: 0.0181 - mae: 0.1081 - val_loss: 0.0177 - val_mae: 0.1098\n",
            "Epoch 23/100\n",
            "18/18 [==============================] - 0s 4ms/step - loss: 0.0174 - mae: 0.1052 - val_loss: 0.0185 - val_mae: 0.1131\n",
            "Epoch 24/100\n",
            "18/18 [==============================] - 0s 4ms/step - loss: 0.0183 - mae: 0.1083 - val_loss: 0.0184 - val_mae: 0.1130\n",
            "Epoch 25/100\n",
            "18/18 [==============================] - 0s 4ms/step - loss: 0.0173 - mae: 0.1042 - val_loss: 0.0191 - val_mae: 0.1168\n",
            "Epoch 26/100\n",
            "18/18 [==============================] - 0s 4ms/step - loss: 0.0174 - mae: 0.1047 - val_loss: 0.0174 - val_mae: 0.1102\n",
            "Epoch 27/100\n",
            "18/18 [==============================] - 0s 4ms/step - loss: 0.0164 - mae: 0.1029 - val_loss: 0.0172 - val_mae: 0.1100\n",
            "Epoch 28/100\n",
            "18/18 [==============================] - 0s 3ms/step - loss: 0.0162 - mae: 0.1019 - val_loss: 0.0155 - val_mae: 0.1025\n",
            "Epoch 29/100\n",
            "18/18 [==============================] - 0s 4ms/step - loss: 0.0160 - mae: 0.0992 - val_loss: 0.0159 - val_mae: 0.1051\n",
            "Epoch 30/100\n",
            "18/18 [==============================] - 0s 4ms/step - loss: 0.0158 - mae: 0.1001 - val_loss: 0.0189 - val_mae: 0.1077\n",
            "Epoch 31/100\n",
            "18/18 [==============================] - 0s 4ms/step - loss: 0.0165 - mae: 0.1029 - val_loss: 0.0159 - val_mae: 0.1044\n",
            "Epoch 32/100\n",
            "18/18 [==============================] - 0s 4ms/step - loss: 0.0151 - mae: 0.0987 - val_loss: 0.0151 - val_mae: 0.1015\n",
            "Epoch 33/100\n",
            "18/18 [==============================] - 0s 3ms/step - loss: 0.0151 - mae: 0.0973 - val_loss: 0.0164 - val_mae: 0.1040\n",
            "Epoch 34/100\n",
            "18/18 [==============================] - 0s 3ms/step - loss: 0.0151 - mae: 0.0973 - val_loss: 0.0166 - val_mae: 0.1101\n",
            "Epoch 35/100\n",
            "18/18 [==============================] - 0s 4ms/step - loss: 0.0150 - mae: 0.0953 - val_loss: 0.0160 - val_mae: 0.1033\n",
            "Epoch 36/100\n",
            "18/18 [==============================] - 0s 3ms/step - loss: 0.0151 - mae: 0.0979 - val_loss: 0.0151 - val_mae: 0.1026\n",
            "Epoch 37/100\n",
            "18/18 [==============================] - 0s 3ms/step - loss: 0.0146 - mae: 0.0963 - val_loss: 0.0160 - val_mae: 0.1046\n",
            "Epoch 38/100\n",
            "18/18 [==============================] - 0s 4ms/step - loss: 0.0144 - mae: 0.0947 - val_loss: 0.0155 - val_mae: 0.1037\n",
            "Epoch 39/100\n",
            "18/18 [==============================] - 0s 4ms/step - loss: 0.0142 - mae: 0.0960 - val_loss: 0.0147 - val_mae: 0.1005\n",
            "Epoch 40/100\n",
            "18/18 [==============================] - 0s 4ms/step - loss: 0.0140 - mae: 0.0937 - val_loss: 0.0141 - val_mae: 0.0967\n",
            "Epoch 41/100\n",
            "18/18 [==============================] - 0s 4ms/step - loss: 0.0134 - mae: 0.0906 - val_loss: 0.0141 - val_mae: 0.0983\n",
            "Epoch 42/100\n",
            "18/18 [==============================] - 0s 5ms/step - loss: 0.0138 - mae: 0.0927 - val_loss: 0.0144 - val_mae: 0.0982\n",
            "Epoch 43/100\n",
            "18/18 [==============================] - 0s 4ms/step - loss: 0.0140 - mae: 0.0927 - val_loss: 0.0142 - val_mae: 0.0953\n",
            "Epoch 44/100\n",
            "18/18 [==============================] - 0s 3ms/step - loss: 0.0131 - mae: 0.0908 - val_loss: 0.0135 - val_mae: 0.0936\n",
            "Epoch 45/100\n",
            "18/18 [==============================] - 0s 5ms/step - loss: 0.0130 - mae: 0.0885 - val_loss: 0.0136 - val_mae: 0.0976\n",
            "Epoch 46/100\n",
            "18/18 [==============================] - 0s 4ms/step - loss: 0.0128 - mae: 0.0874 - val_loss: 0.0135 - val_mae: 0.0955\n",
            "Epoch 47/100\n",
            "18/18 [==============================] - 0s 5ms/step - loss: 0.0133 - mae: 0.0906 - val_loss: 0.0133 - val_mae: 0.0957\n",
            "Epoch 48/100\n",
            "18/18 [==============================] - 0s 4ms/step - loss: 0.0123 - mae: 0.0860 - val_loss: 0.0125 - val_mae: 0.0924\n",
            "Epoch 49/100\n",
            "18/18 [==============================] - 0s 4ms/step - loss: 0.0120 - mae: 0.0850 - val_loss: 0.0127 - val_mae: 0.0910\n",
            "Epoch 50/100\n",
            "18/18 [==============================] - 0s 4ms/step - loss: 0.0145 - mae: 0.0937 - val_loss: 0.0127 - val_mae: 0.0899\n",
            "Epoch 51/100\n",
            "18/18 [==============================] - 0s 4ms/step - loss: 0.0134 - mae: 0.0924 - val_loss: 0.0138 - val_mae: 0.0982\n",
            "Epoch 52/100\n",
            "18/18 [==============================] - 0s 5ms/step - loss: 0.0129 - mae: 0.0911 - val_loss: 0.0124 - val_mae: 0.0911\n",
            "Epoch 53/100\n",
            "18/18 [==============================] - 0s 4ms/step - loss: 0.0126 - mae: 0.0869 - val_loss: 0.0129 - val_mae: 0.0917\n",
            "Epoch 54/100\n",
            "18/18 [==============================] - 0s 4ms/step - loss: 0.0122 - mae: 0.0861 - val_loss: 0.0117 - val_mae: 0.0865\n",
            "Epoch 55/100\n",
            "18/18 [==============================] - 0s 4ms/step - loss: 0.0120 - mae: 0.0856 - val_loss: 0.0115 - val_mae: 0.0876\n",
            "Epoch 56/100\n",
            "18/18 [==============================] - 0s 4ms/step - loss: 0.0120 - mae: 0.0843 - val_loss: 0.0117 - val_mae: 0.0885\n",
            "Epoch 57/100\n",
            "18/18 [==============================] - 0s 4ms/step - loss: 0.0117 - mae: 0.0839 - val_loss: 0.0141 - val_mae: 0.0979\n",
            "Epoch 58/100\n",
            "18/18 [==============================] - 0s 4ms/step - loss: 0.0119 - mae: 0.0859 - val_loss: 0.0124 - val_mae: 0.0914\n",
            "Epoch 59/100\n",
            "18/18 [==============================] - 0s 4ms/step - loss: 0.0114 - mae: 0.0822 - val_loss: 0.0153 - val_mae: 0.1025\n",
            "Epoch 60/100\n",
            "18/18 [==============================] - 0s 4ms/step - loss: 0.0122 - mae: 0.0873 - val_loss: 0.0111 - val_mae: 0.0835\n",
            "Epoch 61/100\n",
            "18/18 [==============================] - 0s 4ms/step - loss: 0.0112 - mae: 0.0809 - val_loss: 0.0111 - val_mae: 0.0838\n",
            "Epoch 62/100\n",
            "18/18 [==============================] - 0s 4ms/step - loss: 0.0125 - mae: 0.0853 - val_loss: 0.0113 - val_mae: 0.0860\n",
            "Epoch 63/100\n",
            "18/18 [==============================] - 0s 4ms/step - loss: 0.0115 - mae: 0.0825 - val_loss: 0.0116 - val_mae: 0.0877\n",
            "Epoch 64/100\n",
            "18/18 [==============================] - 0s 4ms/step - loss: 0.0107 - mae: 0.0796 - val_loss: 0.0115 - val_mae: 0.0870\n",
            "Epoch 65/100\n",
            "18/18 [==============================] - 0s 4ms/step - loss: 0.0112 - mae: 0.0813 - val_loss: 0.0106 - val_mae: 0.0835\n",
            "Epoch 66/100\n",
            "18/18 [==============================] - 0s 5ms/step - loss: 0.0103 - mae: 0.0775 - val_loss: 0.0110 - val_mae: 0.0840\n",
            "Epoch 67/100\n",
            "18/18 [==============================] - 0s 4ms/step - loss: 0.0103 - mae: 0.0767 - val_loss: 0.0127 - val_mae: 0.0899\n",
            "Epoch 68/100\n",
            "18/18 [==============================] - 0s 4ms/step - loss: 0.0106 - mae: 0.0785 - val_loss: 0.0110 - val_mae: 0.0859\n",
            "Epoch 69/100\n",
            "18/18 [==============================] - 0s 4ms/step - loss: 0.0110 - mae: 0.0830 - val_loss: 0.0117 - val_mae: 0.0892\n",
            "Epoch 70/100\n",
            "18/18 [==============================] - 0s 4ms/step - loss: 0.0108 - mae: 0.0795 - val_loss: 0.0109 - val_mae: 0.0844\n",
            "Epoch 71/100\n",
            "18/18 [==============================] - 0s 4ms/step - loss: 0.0100 - mae: 0.0758 - val_loss: 0.0107 - val_mae: 0.0809\n",
            "Epoch 72/100\n",
            "18/18 [==============================] - 0s 3ms/step - loss: 0.0106 - mae: 0.0789 - val_loss: 0.0109 - val_mae: 0.0824\n",
            "Epoch 73/100\n",
            "18/18 [==============================] - 0s 4ms/step - loss: 0.0101 - mae: 0.0773 - val_loss: 0.0100 - val_mae: 0.0803\n",
            "Epoch 74/100\n",
            "18/18 [==============================] - 0s 3ms/step - loss: 0.0103 - mae: 0.0780 - val_loss: 0.0110 - val_mae: 0.0859\n",
            "Epoch 75/100\n",
            "18/18 [==============================] - 0s 3ms/step - loss: 0.0107 - mae: 0.0779 - val_loss: 0.0102 - val_mae: 0.0797\n",
            "Epoch 76/100\n",
            "18/18 [==============================] - 0s 4ms/step - loss: 0.0098 - mae: 0.0752 - val_loss: 0.0110 - val_mae: 0.0831\n",
            "Epoch 77/100\n",
            "18/18 [==============================] - 0s 3ms/step - loss: 0.0112 - mae: 0.0826 - val_loss: 0.0111 - val_mae: 0.0874\n",
            "Epoch 78/100\n",
            "18/18 [==============================] - 0s 4ms/step - loss: 0.0127 - mae: 0.0895 - val_loss: 0.0144 - val_mae: 0.0999\n",
            "Epoch 79/100\n",
            "18/18 [==============================] - 0s 4ms/step - loss: 0.0123 - mae: 0.0875 - val_loss: 0.0107 - val_mae: 0.0839\n",
            "Epoch 80/100\n",
            "18/18 [==============================] - 0s 4ms/step - loss: 0.0105 - mae: 0.0784 - val_loss: 0.0098 - val_mae: 0.0760\n",
            "Epoch 81/100\n",
            "18/18 [==============================] - 0s 3ms/step - loss: 0.0098 - mae: 0.0741 - val_loss: 0.0115 - val_mae: 0.0858\n",
            "Epoch 82/100\n",
            "18/18 [==============================] - 0s 3ms/step - loss: 0.0105 - mae: 0.0748 - val_loss: 0.0103 - val_mae: 0.0810\n",
            "Epoch 83/100\n",
            "18/18 [==============================] - 0s 4ms/step - loss: 0.0100 - mae: 0.0772 - val_loss: 0.0104 - val_mae: 0.0807\n",
            "Epoch 84/100\n",
            "18/18 [==============================] - 0s 5ms/step - loss: 0.0095 - mae: 0.0739 - val_loss: 0.0097 - val_mae: 0.0791\n",
            "Epoch 85/100\n",
            "18/18 [==============================] - 0s 4ms/step - loss: 0.0093 - mae: 0.0710 - val_loss: 0.0097 - val_mae: 0.0793\n",
            "Epoch 86/100\n",
            "18/18 [==============================] - 0s 4ms/step - loss: 0.0093 - mae: 0.0716 - val_loss: 0.0113 - val_mae: 0.0844\n",
            "Epoch 87/100\n",
            "18/18 [==============================] - 0s 3ms/step - loss: 0.0093 - mae: 0.0715 - val_loss: 0.0095 - val_mae: 0.0779\n",
            "Epoch 88/100\n",
            "18/18 [==============================] - 0s 3ms/step - loss: 0.0090 - mae: 0.0706 - val_loss: 0.0090 - val_mae: 0.0750\n",
            "Epoch 89/100\n",
            "18/18 [==============================] - 0s 3ms/step - loss: 0.0088 - mae: 0.0707 - val_loss: 0.0093 - val_mae: 0.0765\n",
            "Epoch 90/100\n",
            "18/18 [==============================] - 0s 3ms/step - loss: 0.0090 - mae: 0.0711 - val_loss: 0.0115 - val_mae: 0.0856\n",
            "Epoch 91/100\n",
            "18/18 [==============================] - 0s 3ms/step - loss: 0.0107 - mae: 0.0814 - val_loss: 0.0108 - val_mae: 0.0846\n",
            "Epoch 92/100\n",
            "18/18 [==============================] - 0s 4ms/step - loss: 0.0095 - mae: 0.0735 - val_loss: 0.0091 - val_mae: 0.0732\n",
            "Epoch 93/100\n",
            "18/18 [==============================] - 0s 3ms/step - loss: 0.0088 - mae: 0.0680 - val_loss: 0.0093 - val_mae: 0.0761\n",
            "Epoch 94/100\n",
            "18/18 [==============================] - 0s 4ms/step - loss: 0.0091 - mae: 0.0722 - val_loss: 0.0089 - val_mae: 0.0715\n",
            "Epoch 95/100\n",
            "18/18 [==============================] - 0s 4ms/step - loss: 0.0091 - mae: 0.0700 - val_loss: 0.0107 - val_mae: 0.0822\n",
            "Epoch 96/100\n",
            "18/18 [==============================] - 0s 5ms/step - loss: 0.0086 - mae: 0.0701 - val_loss: 0.0090 - val_mae: 0.0722\n",
            "Epoch 97/100\n",
            "18/18 [==============================] - 0s 4ms/step - loss: 0.0089 - mae: 0.0686 - val_loss: 0.0089 - val_mae: 0.0737\n",
            "Epoch 98/100\n",
            "18/18 [==============================] - 0s 5ms/step - loss: 0.0086 - mae: 0.0683 - val_loss: 0.0109 - val_mae: 0.0794\n",
            "Epoch 99/100\n",
            "18/18 [==============================] - 0s 4ms/step - loss: 0.0089 - mae: 0.0696 - val_loss: 0.0084 - val_mae: 0.0692\n",
            "Epoch 100/100\n",
            "18/18 [==============================] - 0s 4ms/step - loss: 0.0081 - mae: 0.0664 - val_loss: 0.0091 - val_mae: 0.0768\n"
          ]
        }
      ],
      "source": [
        "# Train the model\n",
        "history = model.fit(X_train, y_train, epochs=100, batch_size=32, validation_data=(X_test, y_test))\n"
      ]
    },
    {
      "cell_type": "code",
      "execution_count": null,
      "metadata": {
        "colab": {
          "base_uri": "https://localhost:8080/"
        },
        "id": "Apyb4bZussAW",
        "outputId": "5198f2db-d276-4e06-eb8a-1928f97d44b8"
      },
      "outputs": [
        {
          "name": "stdout",
          "output_type": "stream",
          "text": [
            "5/5 [==============================] - 0s 3ms/step - loss: 0.0091 - mae: 0.0768\n"
          ]
        }
      ],
      "source": [
        "# Evaluate the model\n",
        "loss, mae = model.evaluate(X_test, y_test)\n",
        "\n"
      ]
    },
    {
      "cell_type": "code",
      "execution_count": null,
      "metadata": {
        "colab": {
          "base_uri": "https://localhost:8080/"
        },
        "id": "4Vbo4Qc5st2o",
        "outputId": "a7123718-9614-48dc-a411-3ecb02b8bde1"
      },
      "outputs": [
        {
          "name": "stdout",
          "output_type": "stream",
          "text": [
            "5/5 [==============================] - 0s 2ms/step\n"
          ]
        }
      ],
      "source": [
        "# Predict using the trained model\n",
        "predictions = model.predict(X_test)"
      ]
    },
    {
      "cell_type": "code",
      "execution_count": null,
      "metadata": {
        "colab": {
          "base_uri": "https://localhost:8080/"
        },
        "id": "fCsGQBAZSuJI",
        "outputId": "5d22fa0f-64ca-4adf-9acb-6fa3a819e74a"
      },
      "outputs": [
        {
          "name": "stdout",
          "output_type": "stream",
          "text": [
            "Mean Absolute Error (MAE): 0.2604433452487665\n",
            "Mean Squared Error (MSE): 0.10259263541359932\n",
            "R-squared (R^2) score: 0.843270120196357\n",
            "Model evaluation - Loss: 0.00914174597710371, MAE: 0.2604433452487665\n"
          ]
        }
      ],
      "source": [
        "# After model evaluation\n",
        "\n",
        "# Calculate Mean Absolute Error (MAE)\n",
        "mae = np.mean(np.abs(predictions - y_test))\n",
        "print(f'Mean Absolute Error (MAE): {mae}')\n",
        "\n",
        "# Calculate Mean Squared Error (MSE)\n",
        "mse = np.mean((predictions - y_test) ** 2)\n",
        "print(f'Mean Squared Error (MSE): {mse}')\n",
        "\n",
        "# Calculate R-squared (R^2) score\n",
        "y_mean = np.mean(y_test)\n",
        "ss_total = np.sum((y_test - y_mean) ** 2)\n",
        "ss_residual = np.sum((y_test - predictions.flatten()) ** 2)\n",
        "r_squared = 1 - (ss_residual / ss_total)\n",
        "print(f'R-squared (R^2) score: {r_squared}')\n",
        "\n",
        "# Optionally, you can also display the model's evaluation output\n",
        "print(f'Model evaluation - Loss: {loss}, MAE: {mae}')\n"
      ]
    },
    {
      "cell_type": "code",
      "execution_count": null,
      "metadata": {
        "colab": {
          "base_uri": "https://localhost:8080/",
          "height": 803
        },
        "id": "LP_y3nsUt-26",
        "outputId": "73c675d7-4e58-435b-c4e6-fa80b2533278"
      },
      "outputs": [
        {
          "name": "stdout",
          "output_type": "stream",
          "text": [
            "      x1   x2   x3     x4     y\n",
            "0  313.0  3.0  1.5  0.026  0.19\n",
            "1  313.0  3.0  1.5  0.034  0.21\n",
            "2  313.0  3.0  1.5  0.090  0.29\n",
            "3  313.0  3.0  1.5  0.110  0.31\n",
            "4  313.0  3.0  1.5  0.200  0.38\n"
          ]
        },
        {
          "data": {
            "image/png": "[encoded data removed]",
            "text/plain": [
              "<Figure size 1000x800 with 2 Axes>"
            ]
          },
          "metadata": {},
          "output_type": "display_data"
        }
      ],
      "source": [
        "import seaborn as sns\n",
        "import matplotlib.pyplot as plt\n",
        "\n",
        "# Load the dataset\n",
        "data = pd.read_csv('/content/Data.csv')\n",
        "\n",
        "# Display the first few rows of the dataset to ensure it's loaded correctly\n",
        "print(data.head())\n",
        "\n",
        "# Calculate the correlation matrix\n",
        "correlation_matrix = data.corr()\n",
        "\n",
        "# Plot the correlation matrix using seaborn heatmap\n",
        "plt.figure(figsize=(10, 8))\n",
        "sns.heatmap(correlation_matrix, annot=True, cmap='coolwarm', fmt=\".2f\")\n",
        "plt.title('Correlation Matrix')\n",
        "plt.show()\n"
      ]
    },
    {
      "cell_type": "code",
      "execution_count": null,
      "metadata": {
        "colab": {
          "base_uri": "https://localhost:8080/"
        },
        "id": "e_c_qkwFvY_s",
        "outputId": "4ca31ed8-1f80-4773-a56a-a3b9d09ed4d6"
      },
      "outputs": [
        {
          "name": "stdout",
          "output_type": "stream",
          "text": [
            "               x1          x2          x3           x4           y\n",
            "count  691.000000  691.000000  691.000000   691.000000  691.000000\n",
            "mean   320.055572    2.903234    0.684166   155.359344    0.630422\n",
            "std     18.609021    0.901507    0.506604   326.945278    0.249675\n",
            "min    293.000000    0.998429    0.000000     0.016000    0.035000\n",
            "25%    308.000000    2.000000    0.230000     3.983500    0.440150\n",
            "50%    313.200000    3.000000    0.580000    22.620000    0.642000\n",
            "75%    328.000000    3.589859    1.000000    88.545000    0.837500\n",
            "max    393.000000    4.487300    1.500000  1487.000000    1.072000\n"
          ]
        }
      ],
      "source": [
        "# Statistical Representation of Data with Mean, Std Mean, Min, max , etc\n",
        "descriptive_stats = data.describe()\n",
        "print(descriptive_stats)\n"
      ]
    },
    {
      "cell_type": "code",
      "execution_count": null,
      "metadata": {
        "colab": {
          "base_uri": "https://localhost:8080/",
          "height": 449
        },
        "id": "F_SRRvc2s3tI",
        "outputId": "ce622e58-f5a5-46ad-cffd-cea86f8cab40"
      },
      "outputs": [
        {
          "data": {
            "image/png": "[encoded data removed]",
            "text/plain": [
              "<Figure size 640x480 with 1 Axes>"
            ]
          },
          "metadata": {},
          "output_type": "display_data"
        }
      ],
      "source": [
        "#Plotting the training/validation loss and metrics over epochs\n",
        "plt.plot(history.history['loss'], label='Training Loss')\n",
        "plt.plot(history.history['val_loss'], label='Validation Loss')\n",
        "plt.xlabel('Epochs')\n",
        "plt.ylabel('Loss')\n",
        "plt.legend()\n",
        "plt.show()"
      ]
    }
  ],
  "metadata": {
    "colab": {
      "provenance": []
    },
    "kernelspec": {
      "display_name": "Python 3",
      "name": "python3"
    },
    "language_info": {
      "name": "python"
    }
  },
  "nbformat": 4,
  "nbformat_minor": 0
}